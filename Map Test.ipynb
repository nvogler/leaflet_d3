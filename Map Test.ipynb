{
 "cells": [
  {
   "cell_type": "code",
   "execution_count": 6,
   "metadata": {
    "scrolled": true
   },
   "outputs": [
    {
     "data": {
      "text/html": [
       "<!DOCTYPE html>\n",
       "<html>\n",
       "<head>\n",
       "\t<title>d3.js with leaflet.js</title>\n",
       "\n",
       "    <link rel=\"stylesheet\" href=\"https://d19vzq90twjlae.cloudfront.net/leaflet-0.7/leaflet.css\" />\n",
       "    <link rel=\"stylesheet\" href=\"http://localhost:8000/d3.slider.css\" />  \n",
       "\n",
       "    <script src=\"https://cdnjs.cloudflare.com/ajax/libs/d3/3.5.17/d3.min.js\"></script>\n",
       "    <script src=\"https://d19vzq90twjlae.cloudfront.net/leaflet-0.7/leaflet.js\"></script>\n",
       "    <script src=\"http://localhost:8000/d3.slider.js\"></script> \n",
       "    \n",
       "</head>\n",
       "<body>\n",
       "\n",
       "\t<div id=\"map\" style=\"width: 600px; height: 400px\"></div>\n",
       "\n",
       "  <h2>Range Slider: <span id=\"slider3textmin\">0</span>, <span id=\"slider3textmax\">24</span></h2>\n",
       "    <div id=\"slider3\"></div>\n",
       "\n",
       "\t<script type=\"text/javascript\">\n",
       "\t\n",
       "    var map = L.map('map').setView([-41.2858, 174.7868], 13);\n",
       "    mapLink = \n",
       "        '<a href=\"http://openstreetmap.org\">OpenStreetMap</a>';\n",
       "    L.tileLayer(\n",
       "        'http://{s}.tile.openstreetmap.org/{z}/{x}/{y}.png', {\n",
       "        attribution: '&copy; ' + mapLink + ' Contributors',\n",
       "        maxZoom: 18,\n",
       "        }).addTo(map);\n",
       "          \n",
       "    /* Initialize the SVG layer */\n",
       "    map._initPathRoot()    \n",
       "\n",
       "    /* We simply pick up the SVG from the map object */\n",
       "    var svg = d3.select(\"#map\").select(\"svg\"),\n",
       "    g = svg.append(\"g\");\n",
       "    \n",
       "    d3.json(\"http://localhost:8000/locations.json\", function(collection) {\n",
       "      /* Add a LatLng object to each item in the dataset */\n",
       "      collection.objects.forEach(function(d) {\n",
       "        d.LatLng = new L.LatLng(d.circle.coordinates[0],\n",
       "                                d.circle.coordinates[1])\n",
       "        d.time = d.circle.time;\n",
       "      })\n",
       "      \n",
       "      var feature = g.selectAll(\"circle\")\n",
       "        .data(collection.objects)\n",
       "        .enter().append(\"circle\")\n",
       "        .style(\"stroke\", \"black\")  \n",
       "        .style(\"opacity\", .6) \n",
       "        .style(\"fill\", \"red\")\n",
       "        .attr(\"r\", 20);  \n",
       "      \n",
       "      map.on(\"viewreset\", update);\n",
       "      update();\n",
       "\n",
       "      function update() {\n",
       "        feature.attr(\"transform\", \n",
       "        function(d) { \n",
       "          return \"translate(\"+ \n",
       "            map.latLngToLayerPoint(d.LatLng).x +\",\"+ \n",
       "            map.latLngToLayerPoint(d.LatLng).y +\")\";\n",
       "          }\n",
       "        )\n",
       "      }\n",
       "\n",
       "      // Slider 2?\n",
       "      d3.select('#slider3').call(d3.slider().axis(true).value( [ 0, 24 ] ).on(\"slide\", function(evt, value) {\n",
       "        d3.select('#slider3textmin').text(Math.round(value[0]));\n",
       "        d3.select('#slider3textmax').text(Math.round(value[1]));\n",
       "\n",
       "        svg.selectAll(\"circle\").each(function(d) { \n",
       "            console.log(d);\n",
       "            this.style.opacity = (d.time < value[1]) &  (d.time > value[0]) ? 0.6 : 0; \n",
       "          });\n",
       "      }));\n",
       "  })\t\t\t \n",
       "</script>\n",
       "</body>\n",
       "</html>"
      ],
      "text/plain": [
       "<IPython.core.display.HTML object>"
      ]
     },
     "execution_count": 6,
     "metadata": {},
     "output_type": "execute_result"
    }
   ],
   "source": [
    "from IPython.display import HTML\n",
    "\n",
    "HTML(filename=\"index.html\")"
   ]
  },
  {
   "cell_type": "code",
   "execution_count": null,
   "metadata": {},
   "outputs": [],
   "source": []
  }
 ],
 "metadata": {
  "kernelspec": {
   "display_name": "Python 3",
   "language": "python",
   "name": "python3"
  },
  "language_info": {
   "codemirror_mode": {
    "name": "ipython",
    "version": 3
   },
   "file_extension": ".py",
   "mimetype": "text/x-python",
   "name": "python",
   "nbconvert_exporter": "python",
   "pygments_lexer": "ipython3",
   "version": "3.7.3"
  }
 },
 "nbformat": 4,
 "nbformat_minor": 2
}
